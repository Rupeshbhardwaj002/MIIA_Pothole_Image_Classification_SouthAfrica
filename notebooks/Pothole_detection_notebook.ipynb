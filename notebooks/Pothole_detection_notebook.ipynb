{
  "nbformat": 4,
  "nbformat_minor": 0,
  "metadata": {
    "colab": {
      "provenance": [],
      "gpuType": "T4"
    },
    "kernelspec": {
      "name": "python3",
      "display_name": "Python 3"
    },
    "language_info": {
      "name": "python"
    },
    "accelerator": "GPU",
    "widgets": {
      "application/vnd.jupyter.widget-state+json": {
        "1c748ca6c2b5401c8e62852a7982736b": {
          "model_module": "@jupyter-widgets/controls",
          "model_name": "HBoxModel",
          "model_module_version": "1.5.0",
          "state": {
            "_dom_classes": [],
            "_model_module": "@jupyter-widgets/controls",
            "_model_module_version": "1.5.0",
            "_model_name": "HBoxModel",
            "_view_count": null,
            "_view_module": "@jupyter-widgets/controls",
            "_view_module_version": "1.5.0",
            "_view_name": "HBoxView",
            "box_style": "",
            "children": [
              "IPY_MODEL_73ba20d803764a7ba64551fef0a28483",
              "IPY_MODEL_d22efbcd7edf4befbef2defc8dd7e317",
              "IPY_MODEL_5945898c1f414d459e06126cc577dbd8"
            ],
            "layout": "IPY_MODEL_ccf28aa50c6f4f83bf19f05531af3a5c"
          }
        },
        "73ba20d803764a7ba64551fef0a28483": {
          "model_module": "@jupyter-widgets/controls",
          "model_name": "HTMLModel",
          "model_module_version": "1.5.0",
          "state": {
            "_dom_classes": [],
            "_model_module": "@jupyter-widgets/controls",
            "_model_module_version": "1.5.0",
            "_model_name": "HTMLModel",
            "_view_count": null,
            "_view_module": "@jupyter-widgets/controls",
            "_view_module_version": "1.5.0",
            "_view_name": "HTMLView",
            "description": "",
            "description_tooltip": null,
            "layout": "IPY_MODEL_56acb48de1d848b697f13f1e584f53a9",
            "placeholder": "​",
            "style": "IPY_MODEL_61a174b177774781b298b5a8ff006fa9",
            "value": "pothole_dataset.zip: 100%"
          }
        },
        "d22efbcd7edf4befbef2defc8dd7e317": {
          "model_module": "@jupyter-widgets/controls",
          "model_name": "FloatProgressModel",
          "model_module_version": "1.5.0",
          "state": {
            "_dom_classes": [],
            "_model_module": "@jupyter-widgets/controls",
            "_model_module_version": "1.5.0",
            "_model_name": "FloatProgressModel",
            "_view_count": null,
            "_view_module": "@jupyter-widgets/controls",
            "_view_module_version": "1.5.0",
            "_view_name": "ProgressView",
            "bar_style": "success",
            "description": "",
            "description_tooltip": null,
            "layout": "IPY_MODEL_7782e648eac64972bc57025a4943a44e",
            "max": 305841148,
            "min": 0,
            "orientation": "horizontal",
            "style": "IPY_MODEL_01f8fc8e8d5d4ccfa585290ae87b2c08",
            "value": 305841148
          }
        },
        "5945898c1f414d459e06126cc577dbd8": {
          "model_module": "@jupyter-widgets/controls",
          "model_name": "HTMLModel",
          "model_module_version": "1.5.0",
          "state": {
            "_dom_classes": [],
            "_model_module": "@jupyter-widgets/controls",
            "_model_module_version": "1.5.0",
            "_model_name": "HTMLModel",
            "_view_count": null,
            "_view_module": "@jupyter-widgets/controls",
            "_view_module_version": "1.5.0",
            "_view_name": "HTMLView",
            "description": "",
            "description_tooltip": null,
            "layout": "IPY_MODEL_8f9fe935e17c4440a31aaa2a542f1ee5",
            "placeholder": "​",
            "style": "IPY_MODEL_98312186eb854de8b93af9f92a2646f6",
            "value": " 306M/306M [00:04&lt;00:00, 69.5MB/s]"
          }
        },
        "ccf28aa50c6f4f83bf19f05531af3a5c": {
          "model_module": "@jupyter-widgets/base",
          "model_name": "LayoutModel",
          "model_module_version": "1.2.0",
          "state": {
            "_model_module": "@jupyter-widgets/base",
            "_model_module_version": "1.2.0",
            "_model_name": "LayoutModel",
            "_view_count": null,
            "_view_module": "@jupyter-widgets/base",
            "_view_module_version": "1.2.0",
            "_view_name": "LayoutView",
            "align_content": null,
            "align_items": null,
            "align_self": null,
            "border": null,
            "bottom": null,
            "display": null,
            "flex": null,
            "flex_flow": null,
            "grid_area": null,
            "grid_auto_columns": null,
            "grid_auto_flow": null,
            "grid_auto_rows": null,
            "grid_column": null,
            "grid_gap": null,
            "grid_row": null,
            "grid_template_areas": null,
            "grid_template_columns": null,
            "grid_template_rows": null,
            "height": null,
            "justify_content": null,
            "justify_items": null,
            "left": null,
            "margin": null,
            "max_height": null,
            "max_width": null,
            "min_height": null,
            "min_width": null,
            "object_fit": null,
            "object_position": null,
            "order": null,
            "overflow": null,
            "overflow_x": null,
            "overflow_y": null,
            "padding": null,
            "right": null,
            "top": null,
            "visibility": null,
            "width": null
          }
        },
        "56acb48de1d848b697f13f1e584f53a9": {
          "model_module": "@jupyter-widgets/base",
          "model_name": "LayoutModel",
          "model_module_version": "1.2.0",
          "state": {
            "_model_module": "@jupyter-widgets/base",
            "_model_module_version": "1.2.0",
            "_model_name": "LayoutModel",
            "_view_count": null,
            "_view_module": "@jupyter-widgets/base",
            "_view_module_version": "1.2.0",
            "_view_name": "LayoutView",
            "align_content": null,
            "align_items": null,
            "align_self": null,
            "border": null,
            "bottom": null,
            "display": null,
            "flex": null,
            "flex_flow": null,
            "grid_area": null,
            "grid_auto_columns": null,
            "grid_auto_flow": null,
            "grid_auto_rows": null,
            "grid_column": null,
            "grid_gap": null,
            "grid_row": null,
            "grid_template_areas": null,
            "grid_template_columns": null,
            "grid_template_rows": null,
            "height": null,
            "justify_content": null,
            "justify_items": null,
            "left": null,
            "margin": null,
            "max_height": null,
            "max_width": null,
            "min_height": null,
            "min_width": null,
            "object_fit": null,
            "object_position": null,
            "order": null,
            "overflow": null,
            "overflow_x": null,
            "overflow_y": null,
            "padding": null,
            "right": null,
            "top": null,
            "visibility": null,
            "width": null
          }
        },
        "61a174b177774781b298b5a8ff006fa9": {
          "model_module": "@jupyter-widgets/controls",
          "model_name": "DescriptionStyleModel",
          "model_module_version": "1.5.0",
          "state": {
            "_model_module": "@jupyter-widgets/controls",
            "_model_module_version": "1.5.0",
            "_model_name": "DescriptionStyleModel",
            "_view_count": null,
            "_view_module": "@jupyter-widgets/base",
            "_view_module_version": "1.2.0",
            "_view_name": "StyleView",
            "description_width": ""
          }
        },
        "7782e648eac64972bc57025a4943a44e": {
          "model_module": "@jupyter-widgets/base",
          "model_name": "LayoutModel",
          "model_module_version": "1.2.0",
          "state": {
            "_model_module": "@jupyter-widgets/base",
            "_model_module_version": "1.2.0",
            "_model_name": "LayoutModel",
            "_view_count": null,
            "_view_module": "@jupyter-widgets/base",
            "_view_module_version": "1.2.0",
            "_view_name": "LayoutView",
            "align_content": null,
            "align_items": null,
            "align_self": null,
            "border": null,
            "bottom": null,
            "display": null,
            "flex": null,
            "flex_flow": null,
            "grid_area": null,
            "grid_auto_columns": null,
            "grid_auto_flow": null,
            "grid_auto_rows": null,
            "grid_column": null,
            "grid_gap": null,
            "grid_row": null,
            "grid_template_areas": null,
            "grid_template_columns": null,
            "grid_template_rows": null,
            "height": null,
            "justify_content": null,
            "justify_items": null,
            "left": null,
            "margin": null,
            "max_height": null,
            "max_width": null,
            "min_height": null,
            "min_width": null,
            "object_fit": null,
            "object_position": null,
            "order": null,
            "overflow": null,
            "overflow_x": null,
            "overflow_y": null,
            "padding": null,
            "right": null,
            "top": null,
            "visibility": null,
            "width": null
          }
        },
        "01f8fc8e8d5d4ccfa585290ae87b2c08": {
          "model_module": "@jupyter-widgets/controls",
          "model_name": "ProgressStyleModel",
          "model_module_version": "1.5.0",
          "state": {
            "_model_module": "@jupyter-widgets/controls",
            "_model_module_version": "1.5.0",
            "_model_name": "ProgressStyleModel",
            "_view_count": null,
            "_view_module": "@jupyter-widgets/base",
            "_view_module_version": "1.2.0",
            "_view_name": "StyleView",
            "bar_color": null,
            "description_width": ""
          }
        },
        "8f9fe935e17c4440a31aaa2a542f1ee5": {
          "model_module": "@jupyter-widgets/base",
          "model_name": "LayoutModel",
          "model_module_version": "1.2.0",
          "state": {
            "_model_module": "@jupyter-widgets/base",
            "_model_module_version": "1.2.0",
            "_model_name": "LayoutModel",
            "_view_count": null,
            "_view_module": "@jupyter-widgets/base",
            "_view_module_version": "1.2.0",
            "_view_name": "LayoutView",
            "align_content": null,
            "align_items": null,
            "align_self": null,
            "border": null,
            "bottom": null,
            "display": null,
            "flex": null,
            "flex_flow": null,
            "grid_area": null,
            "grid_auto_columns": null,
            "grid_auto_flow": null,
            "grid_auto_rows": null,
            "grid_column": null,
            "grid_gap": null,
            "grid_row": null,
            "grid_template_areas": null,
            "grid_template_columns": null,
            "grid_template_rows": null,
            "height": null,
            "justify_content": null,
            "justify_items": null,
            "left": null,
            "margin": null,
            "max_height": null,
            "max_width": null,
            "min_height": null,
            "min_width": null,
            "object_fit": null,
            "object_position": null,
            "order": null,
            "overflow": null,
            "overflow_x": null,
            "overflow_y": null,
            "padding": null,
            "right": null,
            "top": null,
            "visibility": null,
            "width": null
          }
        },
        "98312186eb854de8b93af9f92a2646f6": {
          "model_module": "@jupyter-widgets/controls",
          "model_name": "DescriptionStyleModel",
          "model_module_version": "1.5.0",
          "state": {
            "_model_module": "@jupyter-widgets/controls",
            "_model_module_version": "1.5.0",
            "_model_name": "DescriptionStyleModel",
            "_view_count": null,
            "_view_module": "@jupyter-widgets/base",
            "_view_module_version": "1.2.0",
            "_view_name": "StyleView",
            "description_width": ""
          }
        }
      }
    }
  },
  "cells": [
    {
      "cell_type": "code",
      "execution_count": 2,
      "metadata": {
        "id": "8UEjZ78ti62i"
      },
      "outputs": [],
      "source": [
        "#!pip install -q huggingface_hub"
      ]
    },
    {
      "cell_type": "code",
      "source": [
        "from huggingface_hub import hf_hub_download\n",
        "\n",
        "zip_path = hf_hub_download(\n",
        "    repo_id=\"rupesh002/Patholes_Dataset\",\n",
        "    repo_type=\"dataset\",\n",
        "    filename=\"pothole_dataset.zip\"\n",
        ")"
      ],
      "metadata": {
        "id": "qs-y7VGqjGQX",
        "colab": {
          "base_uri": "https://localhost:8080/",
          "height": 158,
          "referenced_widgets": [
            "1c748ca6c2b5401c8e62852a7982736b",
            "73ba20d803764a7ba64551fef0a28483",
            "d22efbcd7edf4befbef2defc8dd7e317",
            "5945898c1f414d459e06126cc577dbd8",
            "ccf28aa50c6f4f83bf19f05531af3a5c",
            "56acb48de1d848b697f13f1e584f53a9",
            "61a174b177774781b298b5a8ff006fa9",
            "7782e648eac64972bc57025a4943a44e",
            "01f8fc8e8d5d4ccfa585290ae87b2c08",
            "8f9fe935e17c4440a31aaa2a542f1ee5",
            "98312186eb854de8b93af9f92a2646f6"
          ]
        },
        "outputId": "f231c0f2-75c7-42d9-f193-d74f17f67fef"
      },
      "execution_count": 3,
      "outputs": [
        {
          "output_type": "stream",
          "name": "stderr",
          "text": [
            "/usr/local/lib/python3.12/dist-packages/huggingface_hub/utils/_auth.py:94: UserWarning: \n",
            "The secret `HF_TOKEN` does not exist in your Colab secrets.\n",
            "To authenticate with the Hugging Face Hub, create a token in your settings tab (https://huggingface.co/settings/tokens), set it as secret in your Google Colab and restart your session.\n",
            "You will be able to reuse this secret in all of your notebooks.\n",
            "Please note that authentication is recommended but still optional to access public models or datasets.\n",
            "  warnings.warn(\n"
          ]
        },
        {
          "output_type": "display_data",
          "data": {
            "text/plain": [
              "pothole_dataset.zip:   0%|          | 0.00/306M [00:00<?, ?B/s]"
            ],
            "application/vnd.jupyter.widget-view+json": {
              "version_major": 2,
              "version_minor": 0,
              "model_id": "1c748ca6c2b5401c8e62852a7982736b"
            }
          },
          "metadata": {}
        }
      ]
    },
    {
      "cell_type": "code",
      "source": [
        "import zipfile\n",
        "import os\n",
        "\n",
        "\n",
        "os.makedirs(\"pothole_data\", exist_ok=True)\n",
        "\n",
        "\n",
        "with zipfile.ZipFile(zip_path, 'r') as zip_ref:\n",
        "    zip_ref.extractall(\"pothole_data\")"
      ],
      "metadata": {
        "id": "-TOFwoC2nUFQ"
      },
      "execution_count": 4,
      "outputs": []
    },
    {
      "cell_type": "code",
      "source": [
        "import pandas as pd\n",
        "train_csv = \"pothole_data/pothole_dataset/train_ids_labels.csv\"\n",
        "test_csv = \"pothole_data/pothole_dataset/test_ids_only.csv\"\n",
        "\n",
        "train_df = pd.read_csv(train_csv)\n",
        "test_df = pd.read_csv(test_csv)\n",
        "\n",
        "print(\" Columns in training CSV:\", list(train_df.columns), \"\\n\")\n",
        "print(train_df.head(), \"\\n\")"
      ],
      "metadata": {
        "id": "3c0dWp8fHWas",
        "colab": {
          "base_uri": "https://localhost:8080/"
        },
        "outputId": "8e5bddfd-a206-45a0-9829-99947c8d6c2e"
      },
      "execution_count": 5,
      "outputs": [
        {
          "output_type": "stream",
          "name": "stdout",
          "text": [
            " Columns in training CSV: ['Image_ID', 'Label'] \n",
            "\n",
            "          Image_ID  Label\n",
            "0  cVOfkSdqnWXUerr      0\n",
            "1  EhnvIDPXFFjUhkR      0\n",
            "2  tYKqoStvHsryFhS      1\n",
            "3  eSpjlsZIwOMLmUS      1\n",
            "4  uzxhIXjNENLyHwZ      1 \n",
            "\n"
          ]
        }
      ]
    },
    {
      "cell_type": "code",
      "source": [
        "# Fix test image paths\n",
        "image_root = \"pothole_data/pothole_dataset/all_data\"\n",
        "\n",
        "def find_image_path(img_id):\n",
        "    for ext in [\".jpg\", \".jpeg\", \".png\", \".JPG\", \".JPEG\", \".PNG\"]:\n",
        "        path = os.path.join(image_root, img_id + ext)\n",
        "        if os.path.exists(path):\n",
        "            return path\n",
        "    return None\n",
        "\n",
        "test_df[\"Image_ID\"] = test_df[\"Image_ID\"].apply(find_image_path)\n",
        "test_df = test_df.dropna().reset_index(drop=True)\n",
        "\n",
        "print(f\"✅ Found {len(test_df)} test images\")\n",
        "print(test_df.head())"
      ],
      "metadata": {
        "id": "HG9QxTObRDvn",
        "colab": {
          "base_uri": "https://localhost:8080/"
        },
        "outputId": "f39d4f0b-c8ad-49ec-f3a8-757f12c85d0d"
      },
      "execution_count": 6,
      "outputs": [
        {
          "output_type": "stream",
          "name": "stdout",
          "text": [
            "✅ Found 1650 test images\n",
            "                                            Image_ID\n",
            "0  pothole_data/pothole_dataset/all_data/nRhHxqLh...\n",
            "1  pothole_data/pothole_dataset/all_data/gbSntVov...\n",
            "2  pothole_data/pothole_dataset/all_data/nqOobGmv...\n",
            "3  pothole_data/pothole_dataset/all_data/oIkPTooL...\n",
            "4  pothole_data/pothole_dataset/all_data/eSKxsTTJ...\n"
          ]
        }
      ]
    },
    {
      "cell_type": "code",
      "source": [
        "image_root = \"pothole_data/pothole_dataset/all_data\"\n",
        "print(f\"Found images in: {image_root}\")"
      ],
      "metadata": {
        "id": "uCsNBGeMMUW1",
        "colab": {
          "base_uri": "https://localhost:8080/"
        },
        "outputId": "0466e920-5a56-4a72-ed8f-cc7223146d32"
      },
      "execution_count": 7,
      "outputs": [
        {
          "output_type": "stream",
          "name": "stdout",
          "text": [
            "Found images in: pothole_data/pothole_dataset/all_data\n"
          ]
        }
      ]
    },
    {
      "cell_type": "code",
      "source": [
        "if \"Image_ID\" in train_df.columns:\n",
        "    img_col = \"Image_ID\"\n",
        "elif \"image\" in train_df.columns:\n",
        "    img_col = \"image\"\n",
        "elif \"filename\" in train_df.columns:\n",
        "    img_col = \"filename\"\n",
        "else:\n",
        "    raise KeyError(\"Could nt find image column in train CSV. Check train_df.columns().\")\n",
        "\n",
        "\n",
        "def make_path(x):\n",
        "    path = os.path.join(image_root, f\"{x}.JPG\")\n",
        "    if not os.path.exists(path):\n",
        "        path = os.path.join(image_root, f\"{x}.jpg\")\n",
        "    return path\n",
        "\n",
        "train_df[img_col] = train_df[img_col].apply(make_path)\n",
        "\n",
        "\n",
        "train_df = train_df[train_df[img_col].apply(os.path.exists)].reset_index(drop=True)\n",
        "print(f\"All usable images: {len(train_df)}\")\n",
        "print(train_df.head())\n"
      ],
      "metadata": {
        "id": "_36Ah5UvGVOG",
        "colab": {
          "base_uri": "https://localhost:8080/"
        },
        "outputId": "dd20adfe-8edd-465d-91ac-7e0fb4c98877"
      },
      "execution_count": 8,
      "outputs": [
        {
          "output_type": "stream",
          "name": "stdout",
          "text": [
            "All usable images: 4026\n",
            "                                            Image_ID  Label\n",
            "0  pothole_data/pothole_dataset/all_data/cVOfkSdq...      0\n",
            "1  pothole_data/pothole_dataset/all_data/EhnvIDPX...      0\n",
            "2  pothole_data/pothole_dataset/all_data/tYKqoStv...      1\n",
            "3  pothole_data/pothole_dataset/all_data/eSpjlsZI...      1\n",
            "4  pothole_data/pothole_dataset/all_data/uzxhIXjN...      1\n"
          ]
        }
      ]
    },
    {
      "cell_type": "code",
      "source": [
        "print(train_df.head())\n",
        "print(test_df.head())"
      ],
      "metadata": {
        "id": "xa5Kn7rJpBeE",
        "colab": {
          "base_uri": "https://localhost:8080/"
        },
        "outputId": "072c0aa1-ebfd-4112-dd3a-70475c82a09c"
      },
      "execution_count": 9,
      "outputs": [
        {
          "output_type": "stream",
          "name": "stdout",
          "text": [
            "                                            Image_ID  Label\n",
            "0  pothole_data/pothole_dataset/all_data/cVOfkSdq...      0\n",
            "1  pothole_data/pothole_dataset/all_data/EhnvIDPX...      0\n",
            "2  pothole_data/pothole_dataset/all_data/tYKqoStv...      1\n",
            "3  pothole_data/pothole_dataset/all_data/eSpjlsZI...      1\n",
            "4  pothole_data/pothole_dataset/all_data/uzxhIXjN...      1\n",
            "                                            Image_ID\n",
            "0  pothole_data/pothole_dataset/all_data/nRhHxqLh...\n",
            "1  pothole_data/pothole_dataset/all_data/gbSntVov...\n",
            "2  pothole_data/pothole_dataset/all_data/nqOobGmv...\n",
            "3  pothole_data/pothole_dataset/all_data/oIkPTooL...\n",
            "4  pothole_data/pothole_dataset/all_data/eSKxsTTJ...\n"
          ]
        }
      ]
    },
    {
      "cell_type": "code",
      "source": [
        "from PIL import Image\n",
        "import torch\n",
        "from torch.utils.data import Dataset\n",
        "\n",
        "class potholes(Dataset):\n",
        "  def __init__ (self, dataframe, transform):\n",
        "    self.df = dataframe\n",
        "    self.transform = transform\n",
        "  def __len__(self):\n",
        "    return len(self.df)\n",
        "  def __getitem__(self, index):\n",
        "    image_path = self.df.iloc[index][\"Image_ID\"]\n",
        "    label = self.df.iloc[index][\"Label\"]\n",
        "\n",
        "    image = Image.open(image_path).convert(\"RGB\")\n",
        "\n",
        "    if self.transform:\n",
        "      image = self.transform(image)\n",
        "\n",
        "    return image, torch.tensor(label, dtype=torch.long)"
      ],
      "metadata": {
        "id": "kUMnz_pkpDLl"
      },
      "execution_count": 10,
      "outputs": []
    },
    {
      "cell_type": "code",
      "source": [
        "from torchvision import transforms\n",
        "from torch.utils.data import DataLoader\n",
        "\n",
        "transform = transforms.Compose(\n",
        "    [\n",
        "    transforms.Resize((224, 224)),\n",
        "    transforms.RandomHorizontalFlip(),\n",
        "    transforms.RandomRotation(10),\n",
        "    transforms.ColorJitter(brightness=0.2, contrast=0.2, saturation=0.2),\n",
        "    transforms.RandomResizedCrop(224, scale=(0.8, 1.0)),\n",
        "    transforms.ToTensor(),\n",
        "    ]\n",
        ")\n",
        "\n",
        "train_dataset = potholes(train_df,transform)\n",
        "train_loader = DataLoader(train_dataset, batch_size=32, shuffle=True)"
      ],
      "metadata": {
        "id": "0dJEjw4-RBQL"
      },
      "execution_count": 11,
      "outputs": []
    },
    {
      "cell_type": "code",
      "source": [
        "import torch.nn as nn\n",
        "import torchvision.models as models\n",
        "model = models.resnet18(pretrained=True)\n",
        "for param in model.parameters():\n",
        "    param.requires_grad = True\n",
        "\n",
        "model.fc = nn.Linear(model.fc.in_features,2 )"
      ],
      "metadata": {
        "id": "kybAblZDT6YL",
        "colab": {
          "base_uri": "https://localhost:8080/"
        },
        "outputId": "9d6d08a3-64cc-43c5-8bdb-90860457f69b"
      },
      "execution_count": 12,
      "outputs": [
        {
          "output_type": "stream",
          "name": "stderr",
          "text": [
            "/usr/local/lib/python3.12/dist-packages/torchvision/models/_utils.py:208: UserWarning: The parameter 'pretrained' is deprecated since 0.13 and may be removed in the future, please use 'weights' instead.\n",
            "  warnings.warn(\n",
            "/usr/local/lib/python3.12/dist-packages/torchvision/models/_utils.py:223: UserWarning: Arguments other than a weight enum or `None` for 'weights' are deprecated since 0.13 and may be removed in the future. The current behavior is equivalent to passing `weights=ResNet18_Weights.IMAGENET1K_V1`. You can also use `weights=ResNet18_Weights.DEFAULT` to get the most up-to-date weights.\n",
            "  warnings.warn(msg)\n"
          ]
        },
        {
          "output_type": "stream",
          "name": "stdout",
          "text": [
            "Downloading: \"https://download.pytorch.org/models/resnet18-f37072fd.pth\" to /root/.cache/torch/hub/checkpoints/resnet18-f37072fd.pth\n"
          ]
        },
        {
          "output_type": "stream",
          "name": "stderr",
          "text": [
            "100%|██████████| 44.7M/44.7M [00:00<00:00, 197MB/s]\n"
          ]
        }
      ]
    },
    {
      "cell_type": "code",
      "source": [
        "import torch.optim as optim\n",
        "\n",
        "device = torch.device(\"cuda\" if torch.cuda.is_available() else \"cpu\")\n",
        "model.to(device)\n",
        "\n",
        "criterion = nn.CrossEntropyLoss()\n",
        "optimizer = optim.Adam(model.parameters(), lr=1e-4)\n",
        "\n",
        "for epoch in range(15):  # increase epochs later\n",
        "    model.train()\n",
        "    running_loss = 0.0\n",
        "    for images, labels in train_loader:\n",
        "        images, labels = images.to(device), labels.to(device)\n",
        "        optimizer.zero_grad()\n",
        "        outputs = model(images)\n",
        "        loss = criterion(outputs, labels)\n",
        "        loss.backward()\n",
        "        optimizer.step()\n",
        "        running_loss += loss.item()\n",
        "    print(f\"Epoch {epoch+1}, Loss: {running_loss:.4f}\")\n"
      ],
      "metadata": {
        "id": "l4Qq9v20WFd_",
        "colab": {
          "base_uri": "https://localhost:8080/"
        },
        "outputId": "b54c7f92-82df-46f8-b2c3-ceed2da45332"
      },
      "execution_count": 13,
      "outputs": [
        {
          "output_type": "stream",
          "name": "stdout",
          "text": [
            "Epoch 1, Loss: 34.5215\n",
            "Epoch 2, Loss: 16.8792\n",
            "Epoch 3, Loss: 13.8673\n",
            "Epoch 4, Loss: 8.7849\n",
            "Epoch 5, Loss: 8.5060\n",
            "Epoch 6, Loss: 7.0612\n",
            "Epoch 7, Loss: 5.3233\n",
            "Epoch 8, Loss: 4.5851\n",
            "Epoch 9, Loss: 4.8884\n",
            "Epoch 10, Loss: 4.5228\n",
            "Epoch 11, Loss: 3.6127\n",
            "Epoch 12, Loss: 2.8293\n",
            "Epoch 13, Loss: 3.7737\n",
            "Epoch 14, Loss: 2.5612\n",
            "Epoch 15, Loss: 1.8422\n"
          ]
        }
      ]
    },
    {
      "cell_type": "code",
      "source": [
        "class PotholeTestDataset(Dataset):\n",
        "    def __init__(self, dataframe, transform=None):\n",
        "        self.df = dataframe\n",
        "        self.transform = transform\n",
        "\n",
        "    def __len__(self):\n",
        "        return len(self.df)\n",
        "\n",
        "    def __getitem__(self, idx):\n",
        "        img_path = self.df.iloc[idx][\"Image_ID\"]\n",
        "        image = Image.open(img_path).convert(\"RGB\")\n",
        "        if self.transform:\n",
        "            image = self.transform(image)\n",
        "        return image, self.df.iloc[idx][\"Image_ID\"]\n",
        "\n",
        "test_dataset = PotholeTestDataset(test_df, transform=transform)\n",
        "test_loader = DataLoader(test_dataset, batch_size=32)\n",
        "\n",
        "model.eval()\n",
        "predictions = []\n",
        "\n",
        "with torch.no_grad():\n",
        "    for images, ids in test_loader:\n",
        "        images = images.to(device)\n",
        "        outputs = model(images)\n",
        "        probs = torch.softmax(outputs, dim=1)[:, 1]\n",
        "        predictions.extend(zip(ids, probs.cpu().numpy()))\n",
        "\n"
      ],
      "metadata": {
        "id": "lW2Ps9DoPLvE"
      },
      "execution_count": 14,
      "outputs": []
    },
    {
      "cell_type": "code",
      "source": [
        "import pandas as pd\n",
        "\n",
        "import pandas as pd\n",
        "\n",
        "\n",
        "submission_df = pd.DataFrame(predictions, columns=[\"Image_Path\", \"Pothole_Probability\"])\n",
        "\n",
        "submission_df[\"Image_ID\"] = submission_df[\"Image_Path\"].apply(lambda x: x.split(\"/\")[-1].split(\".\")[0])\n",
        "\n",
        "submission_df = submission_df[[\"Image_ID\", \"Pothole_Probability\"]]\n",
        "\n",
        "submission_df[\"Pothole_Probability\"] = submission_df[\"Pothole_Probability\"].apply(lambda x: 1 if x > 0.5 else 0)\n",
        "\n",
        "# save csv\n",
        "submission_df.to_csv(\"final_submission.csv\", index=False)\n",
        "\n",
        "print(\" Final submission file created: final_submission.csv\")\n",
        "submission_df.head()\n",
        "\n",
        "\n",
        "from google.colab import files\n",
        "files.download(\"final_submission.csv\")"
      ],
      "metadata": {
        "id": "vB5llzJrULA1",
        "colab": {
          "base_uri": "https://localhost:8080/",
          "height": 35
        },
        "outputId": "7528ce84-de5f-4fd3-a3a4-0f22b7da9f27"
      },
      "execution_count": 15,
      "outputs": [
        {
          "output_type": "stream",
          "name": "stdout",
          "text": [
            " Final submission file created: final_submission.csv\n"
          ]
        },
        {
          "output_type": "display_data",
          "data": {
            "text/plain": [
              "<IPython.core.display.Javascript object>"
            ],
            "application/javascript": [
              "\n",
              "    async function download(id, filename, size) {\n",
              "      if (!google.colab.kernel.accessAllowed) {\n",
              "        return;\n",
              "      }\n",
              "      const div = document.createElement('div');\n",
              "      const label = document.createElement('label');\n",
              "      label.textContent = `Downloading \"${filename}\": `;\n",
              "      div.appendChild(label);\n",
              "      const progress = document.createElement('progress');\n",
              "      progress.max = size;\n",
              "      div.appendChild(progress);\n",
              "      document.body.appendChild(div);\n",
              "\n",
              "      const buffers = [];\n",
              "      let downloaded = 0;\n",
              "\n",
              "      const channel = await google.colab.kernel.comms.open(id);\n",
              "      // Send a message to notify the kernel that we're ready.\n",
              "      channel.send({})\n",
              "\n",
              "      for await (const message of channel.messages) {\n",
              "        // Send a message to notify the kernel that we're ready.\n",
              "        channel.send({})\n",
              "        if (message.buffers) {\n",
              "          for (const buffer of message.buffers) {\n",
              "            buffers.push(buffer);\n",
              "            downloaded += buffer.byteLength;\n",
              "            progress.value = downloaded;\n",
              "          }\n",
              "        }\n",
              "      }\n",
              "      const blob = new Blob(buffers, {type: 'application/binary'});\n",
              "      const a = document.createElement('a');\n",
              "      a.href = window.URL.createObjectURL(blob);\n",
              "      a.download = filename;\n",
              "      div.appendChild(a);\n",
              "      a.click();\n",
              "      div.remove();\n",
              "    }\n",
              "  "
            ]
          },
          "metadata": {}
        },
        {
          "output_type": "display_data",
          "data": {
            "text/plain": [
              "<IPython.core.display.Javascript object>"
            ],
            "application/javascript": [
              "download(\"download_d7a486b9-b978-4dec-8d0c-10a830796522\", \"final_submission.csv\", 29729)"
            ]
          },
          "metadata": {}
        }
      ]
    },
    {
      "cell_type": "code",
      "source": [
        "import joblib\n",
        "joblib.dump(model, \"model.pkl\")\n",
        "files.download('model.pkl')"
      ],
      "metadata": {
        "colab": {
          "base_uri": "https://localhost:8080/",
          "height": 17
        },
        "id": "9U8p8TvtMerw",
        "outputId": "91ec4bfb-bd5d-4c46-aa26-1ef40bc54ee7"
      },
      "execution_count": 16,
      "outputs": [
        {
          "output_type": "display_data",
          "data": {
            "text/plain": [
              "<IPython.core.display.Javascript object>"
            ],
            "application/javascript": [
              "\n",
              "    async function download(id, filename, size) {\n",
              "      if (!google.colab.kernel.accessAllowed) {\n",
              "        return;\n",
              "      }\n",
              "      const div = document.createElement('div');\n",
              "      const label = document.createElement('label');\n",
              "      label.textContent = `Downloading \"${filename}\": `;\n",
              "      div.appendChild(label);\n",
              "      const progress = document.createElement('progress');\n",
              "      progress.max = size;\n",
              "      div.appendChild(progress);\n",
              "      document.body.appendChild(div);\n",
              "\n",
              "      const buffers = [];\n",
              "      let downloaded = 0;\n",
              "\n",
              "      const channel = await google.colab.kernel.comms.open(id);\n",
              "      // Send a message to notify the kernel that we're ready.\n",
              "      channel.send({})\n",
              "\n",
              "      for await (const message of channel.messages) {\n",
              "        // Send a message to notify the kernel that we're ready.\n",
              "        channel.send({})\n",
              "        if (message.buffers) {\n",
              "          for (const buffer of message.buffers) {\n",
              "            buffers.push(buffer);\n",
              "            downloaded += buffer.byteLength;\n",
              "            progress.value = downloaded;\n",
              "          }\n",
              "        }\n",
              "      }\n",
              "      const blob = new Blob(buffers, {type: 'application/binary'});\n",
              "      const a = document.createElement('a');\n",
              "      a.href = window.URL.createObjectURL(blob);\n",
              "      a.download = filename;\n",
              "      div.appendChild(a);\n",
              "      a.click();\n",
              "      div.remove();\n",
              "    }\n",
              "  "
            ]
          },
          "metadata": {}
        },
        {
          "output_type": "display_data",
          "data": {
            "text/plain": [
              "<IPython.core.display.Javascript object>"
            ],
            "application/javascript": [
              "download(\"download_eae8c4f8-f5ee-4537-9e94-45cd2012a159\", \"model.pkl\", 44795458)"
            ]
          },
          "metadata": {}
        }
      ]
    }
  ]
}